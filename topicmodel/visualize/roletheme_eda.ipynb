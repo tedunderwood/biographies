{
 "cells": [
  {
   "cell_type": "markdown",
   "metadata": {},
   "source": [
    "# EDA for roletheme models"
   ]
  },
  {
   "cell_type": "code",
   "execution_count": 1,
   "metadata": {},
   "outputs": [],
   "source": [
    "import pandas as pd\n",
    "import numpy as np\n",
    "from matplotlib import pyplot as plt\n",
    "%matplotlib inline"
   ]
  },
  {
   "cell_type": "code",
   "execution_count": 2,
   "metadata": {},
   "outputs": [],
   "source": [
    "meta = pd.read_csv('../../metadata/filtered_fiction_plus_18c.tsv', sep = '\\t', index_col = 'docid')\n",
    "meta = meta[~meta.index.duplicated(keep = 'first')]"
   ]
  },
  {
   "cell_type": "code",
   "execution_count": 5,
   "metadata": {},
   "outputs": [
    {
     "name": "stdout",
     "output_type": "stream",
     "text": [
      "error\n"
     ]
    }
   ],
   "source": [
    "# read the doctopic distributions\n",
    "\n",
    "doctopic_path = '../roletheme/sixthmodelIII_doctopics.tsv'\n",
    "charvectors = dict()\n",
    "yearcollections = dict()\n",
    "\n",
    "with open(doctopic_path, encoding = 'utf-8') as f:\n",
    "    for line in f:\n",
    "        fields = line.strip().split('\\t')\n",
    "        if fields[0] == 'book':\n",
    "            continue\n",
    "        charid = fields[1]\n",
    "        docid = charid.split('|')[0]\n",
    "        if docid not in meta.index:\n",
    "            print('error: ', docid)\n",
    "            continue\n",
    "        else:\n",
    "            yr = meta.loc[docid, 'inferreddate']\n",
    "        \n",
    "        vector = np.array([int(float(x)) for x in fields[3:]], dtype = 'int32')\n",
    "        charvectors[charid] = vector\n",
    "        if yr not in yearcollections:\n",
    "            yearcollections[yr] = []\n",
    "        yearcollections[yr].append(vector)"
   ]
  },
  {
   "cell_type": "code",
   "execution_count": 8,
   "metadata": {},
   "outputs": [],
   "source": [
    "yeardists = dict()\n",
    "yrmax = 0\n",
    "yrmin = 3000\n",
    "\n",
    "for yr, collex in yearcollections.items():\n",
    "    if yr > yrmax:\n",
    "        yrmax = yr\n",
    "    if yr < yrmin:\n",
    "        yrmin = yr\n",
    "    \n",
    "    charsum = np.sum(collex, axis = 0)\n",
    "    dist = charsum / np.sum(charsum)\n",
    "    yeardists[yr] = dist\n",
    "\n",
    "yearspan = yrmax - yrmin\n",
    "    \n",
    "topicdists = dict()\n",
    "for i in range(len(dist)):\n",
    "    topicdists[i] = np.zeros(yearspan + 1)\n",
    "    \n",
    "for yr in range(yrmin, yrmax + 1):\n",
    "    for idx, value in enumerate(yeardists[yr]):\n",
    "        topicdists[idx][yr - yrmin] = value\n",
    "        \n",
    "    "
   ]
  },
  {
   "cell_type": "code",
   "execution_count": 12,
   "metadata": {},
   "outputs": [
    {
     "data": {
      "image/png": "[encoded data removed]",
      "text/plain": [
       "<matplotlib.figure.Figure at 0x11c4c8908>"
      ]
     },
     "metadata": {},
     "output_type": "display_data"
    }
   ],
   "source": [
    "xaxis = [x for x in range(yrmin, yrmax + 1)]\n",
    "\n",
    "for i in range(80, 88):\n",
    "    plt.plot(xaxis, topicdists[i])\n",
    "\n",
    "plt.show()"
   ]
  },
  {
   "cell_type": "code",
   "execution_count": 14,
   "metadata": {},
   "outputs": [
    {
     "data": {
      "text/plain": [
       "240"
      ]
     },
     "execution_count": 14,
     "metadata": {},
     "output_type": "execute_result"
    }
   ],
   "source": [
    "numtopics = len(dist)\n",
    "numtopics"
   ]
  },
  {
   "cell_type": "code",
   "execution_count": 13,
   "metadata": {},
   "outputs": [],
   "source": [
    "# from Olivia Guest\n",
    "# https://github.com/oliviaguest/gini\n",
    "\n",
    "import numpy as np\n",
    "\n",
    "def gini(array):\n",
    "    \"\"\"Calculate the Gini coefficient of a numpy array.\"\"\"\n",
    "    # based on bottom eq:\n",
    "    # http://www.statsdirect.com/help/generatedimages/equations/equation154.svg\n",
    "    # from:\n",
    "    # http://www.statsdirect.com/help/default.htm#nonparametric_methods/gini.htm\n",
    "    # All values are treated equally, arrays must be 1d:\n",
    "    array = array.flatten()\n",
    "    if np.amin(array) < 0:\n",
    "        # Values cannot be negative:\n",
    "        array -= np.amin(array)\n",
    "    # Values cannot be 0:\n",
    "    array += 0.0000001\n",
    "    # Values must be sorted:\n",
    "    array = np.sort(array)\n",
    "    # Index per array element:\n",
    "    index = np.arange(1,array.shape[0]+1)\n",
    "    # Number of array elements:\n",
    "    n = array.shape[0]\n",
    "    # Gini coefficient:\n",
    "    return ((np.sum((2 * index - n  - 1) * array)) / (n * np.sum(array)))\n"
   ]
  },
  {
   "cell_type": "code",
   "execution_count": 15,
   "metadata": {},
   "outputs": [],
   "source": [
    "ginis = []\n",
    "\n",
    "for topic in range(numtopics):\n",
    "    ginis.append(gini(topicdists[topic]))"
   ]
  },
  {
   "cell_type": "code",
   "execution_count": 16,
   "metadata": {},
   "outputs": [
    {
     "data": {
      "text/plain": [
       "0.38929352277079848"
      ]
     },
     "execution_count": 16,
     "metadata": {},
     "output_type": "execute_result"
    }
   ],
   "source": [
    "np.mean(ginis[0:60])"
   ]
  },
  {
   "cell_type": "code",
   "execution_count": 17,
   "metadata": {},
   "outputs": [
    {
     "data": {
      "text/plain": [
       "0.32898731529071001"
      ]
     },
     "execution_count": 17,
     "metadata": {},
     "output_type": "execute_result"
    }
   ],
   "source": [
    "np.mean(ginis[60: ])"
   ]
  },
  {
   "cell_type": "code",
   "execution_count": 18,
   "metadata": {},
   "outputs": [
    {
     "data": {
      "text/plain": [
       "0.14075978899366212"
      ]
     },
     "execution_count": 18,
     "metadata": {},
     "output_type": "execute_result"
    }
   ],
   "source": [
    "np.std(ginis)"
   ]
  },
  {
   "cell_type": "code",
   "execution_count": 20,
   "metadata": {},
   "outputs": [],
   "source": [
    "from scipy.stats import ttest_ind"
   ]
  },
  {
   "cell_type": "code",
   "execution_count": 21,
   "metadata": {},
   "outputs": [
    {
     "data": {
      "text/plain": [
       "Ttest_indResult(statistic=2.5059210838104331, pvalue=0.014206687638479236)"
      ]
     },
     "execution_count": 21,
     "metadata": {},
     "output_type": "execute_result"
    }
   ],
   "source": [
    "ttest_ind(ginis[0:60], ginis[60: ], equal_var = False)"
   ]
  },
  {
   "cell_type": "code",
   "execution_count": 22,
   "metadata": {},
   "outputs": [],
   "source": [
    "# So the themes are significantly more concentrated on the x axis than the roles"
   ]
  },
  {
   "cell_type": "code",
   "execution_count": 24,
   "metadata": {},
   "outputs": [],
   "source": [
    "topicsizes = np.zeros(numtopics)\n",
    "\n",
    "for yr, collex in yearcollections.items():\n",
    "    charsum = np.sum(collex, axis = 0)\n",
    "    topicsizes = topicsizes + charsum\n",
    "\n",
    "topicsizes = topicsizes / np.sum(topicsizes)"
   ]
  },
  {
   "cell_type": "code",
   "execution_count": 30,
   "metadata": {},
   "outputs": [
    {
     "data": {
      "image/png": "[encoded data removed]",
      "text/plain": [
       "<matplotlib.figure.Figure at 0x1444ffc18>"
      ]
     },
     "metadata": {},
     "output_type": "display_data"
    }
   ],
   "source": [
    "plt.figure(figsize = (9, 9))\n",
    "plt.scatter(topicsizes[0:60], ginis[0:60], marker = 'o', color = 'r')\n",
    "plt.scatter(topicsizes[60:], ginis[60:], marker = 'D', color = 'b')\n",
    "plt.xlim(0.001, 0.008)\n",
    "plt.show()"
   ]
  },
  {
   "cell_type": "code",
   "execution_count": null,
   "metadata": {},
   "outputs": [],
   "source": []
  }
 ],
 "metadata": {
  "kernelspec": {
   "display_name": "Python 3",
   "language": "python",
   "name": "python3"
  },
  "language_info": {
   "codemirror_mode": {
    "name": "ipython",
    "version": 3
   },
   "file_extension": ".py",
   "mimetype": "text/x-python",
   "name": "python",
   "nbconvert_exporter": "python",
   "pygments_lexer": "ipython3",
   "version": "3.5.2"
  }
 },
 "nbformat": 4,
 "nbformat_minor": 2
}
