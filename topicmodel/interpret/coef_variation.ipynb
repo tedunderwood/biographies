{
 "cells": [
  {
   "cell_type": "markdown",
   "metadata": {},
   "source": [
    "# Coefficients of variation across topics\n",
    "\n",
    "Which topics mostly reflect differences within books, and which ones differences between books?"
   ]
  },
  {
   "cell_type": "code",
   "execution_count": 30,
   "metadata": {},
   "outputs": [],
   "source": [
    "import sys, csv, math\n",
    "import numpy as np\n",
    "import pandas as pd\n",
    "from matplotlib import pyplot \n",
    "%matplotlib inline"
   ]
  },
  {
   "cell_type": "code",
   "execution_count": 2,
   "metadata": {},
   "outputs": [],
   "source": [
    "# A useful function\n",
    "\n",
    "def getdoc(anid):\n",
    "    '''\n",
    "    Gets the docid part of a character id\n",
    "    '''\n",
    "\n",
    "    if '|' in anid:\n",
    "        thedoc = anid.split('|')[0]\n",
    "    else:\n",
    "        print('error', anid)\n",
    "        thedoc = anid\n",
    "\n",
    "    return thedoc"
   ]
  },
  {
   "cell_type": "code",
   "execution_count": 3,
   "metadata": {},
   "outputs": [],
   "source": [
    "# Initialize some variables\n",
    "\n",
    "# We're going to do this for a 200-topic model.\n",
    "\n",
    "doctopic_path = '../fic200/fic200_doctopics.txt'\n",
    "veclen = 200\n",
    "\n",
    "# Two variables that will hold a list of CVs and means \n",
    "# for each topic. Each item in the list represents a\n",
    "# coefficient of variation, or a mean, for a different\n",
    "# document.\n",
    "\n",
    "doc_cvs = dict()\n",
    "doc_means= dict()\n",
    "\n",
    "for i in range(veclen):\n",
    "    doc_means[i] = []\n",
    "    doc_cvs[i] = []\n"
   ]
  },
  {
   "cell_type": "markdown",
   "metadata": {},
   "source": [
    "Now we actually loop through the doctopic matrix measuring the mean and standard deviation of each topic in each book."
   ]
  },
  {
   "cell_type": "code",
   "execution_count": 6,
   "metadata": {},
   "outputs": [],
   "source": [
    "names = ['theindex', 'charid']\n",
    "names.extend([\"topic\" + str(x) for x in range (200)])\n",
    "dtm = pd.read_csv(doctopic_path, sep = '\\t', names = names)"
   ]
  },
  {
   "cell_type": "code",
   "execution_count": 7,
   "metadata": {},
   "outputs": [
    {
     "data": {
      "text/plain": [
       "Index(['theindex', 'charid', 'topic0', 'topic1', 'topic2', 'topic3', 'topic4',\n",
       "       'topic5', 'topic6', 'topic7',\n",
       "       ...\n",
       "       'topic190', 'topic191', 'topic192', 'topic193', 'topic194', 'topic195',\n",
       "       'topic196', 'topic197', 'topic198', 'topic199'],\n",
       "      dtype='object', length=202)"
      ]
     },
     "execution_count": 7,
     "metadata": {},
     "output_type": "execute_result"
    }
   ],
   "source": [
    "dtm.columns"
   ]
  },
  {
   "cell_type": "code",
   "execution_count": 8,
   "metadata": {},
   "outputs": [],
   "source": [
    "dtm = dtm.assign(docid = dtm.charid.map(getdoc))"
   ]
  },
  {
   "cell_type": "code",
   "execution_count": 9,
   "metadata": {},
   "outputs": [
    {
     "name": "stdout",
     "output_type": "stream",
     "text": [
      "33000  single-char vols.\n"
     ]
    }
   ],
   "source": [
    "groupedbydoc = dtm.groupby('docid')\n",
    "singletons = 0\n",
    "\n",
    "for doc, group in groupedbydoc:\n",
    "    for i in range(veclen):\n",
    "        if len(group) > 1:\n",
    "            the_mean = np.mean(group['topic' + str(i)])\n",
    "            the_std = np.std(group['topic' + str(i)])\n",
    "            the_cv = the_std/the_mean\n",
    "        else:\n",
    "            the_mean = 0\n",
    "            the_std = 0\n",
    "            the_cv = 0\n",
    "            singletons += 1\n",
    "        doc_cvs[i].append(the_cv)\n",
    "        doc_means[i].append(the_mean)\n",
    "\n",
    "print(singletons/veclen, \" single-char vols.\")"
   ]
  },
  {
   "cell_type": "code",
   "execution_count": 59,
   "metadata": {},
   "outputs": [],
   "source": [
    "mean_cv_withinbook = dict()\n",
    "cv_acrossbook = dict()\n",
    "mean_acrossbook = dict()\n",
    "\n",
    "for i in range(veclen):\n",
    "    mean_acrossbook[i] = np.mean(doc_means[i])\n",
    "    mask = np.array(doc_means[i]) > mean_acrossbook[i] / 8\n",
    "    mean_cv_withinbook[i] = np.mean(np.array(doc_cvs[i])[mask])\n",
    "    cv_acrossbook[i] = np.std(doc_means[i]) / mean_acrossbook[i]"
   ]
  },
  {
   "cell_type": "code",
   "execution_count": 60,
   "metadata": {},
   "outputs": [
    {
     "data": {
      "image/png": "[encoded data removed]",
      "text/plain": [
       "<matplotlib.figure.Figure at 0x13a0e5860>"
      ]
     },
     "metadata": {},
     "output_type": "display_data"
    }
   ],
   "source": [
    "x = [mean_cv_withinbook[x] for x in range(veclen)]\n",
    "y = [cv_acrossbook[x] for x in range(veclen)]\n",
    "sizes = [math.sqrt(mean_acrossbook[x] * 200000) for x in range(veclen)]\n",
    "fig, ax = pyplot.subplots(figsize = (8, 8))\n",
    "pyplot.scatter(x, y, s = sizes, alpha = 0.5)\n",
    "# ax.set_ylim(0, 8)\n",
    "# ax.set_xlim(1.4, 3)\n",
    "pyplot.show()"
   ]
  },
  {
   "cell_type": "code",
   "execution_count": 38,
   "metadata": {},
   "outputs": [],
   "source": [
    "keypath = '../fic200/fic200_keys.txt'\n",
    "\n",
    "keys = []\n",
    "boring = {'said', 'had', 'was'}\n",
    "\n",
    "with open(keypath, encoding = 'utf-8') as f:\n",
    "    for line in f:\n",
    "        fields = line.strip().split('\\t')\n",
    "        text = fields[2]\n",
    "        words = text.split()[1 : ]\n",
    "        interestingwords = []\n",
    "        for w in words:\n",
    "            if w not in boring:\n",
    "                interestingwords.append(w)\n",
    "            if len(interestingwords) > 20:\n",
    "                break\n",
    "        keys.append(interestingwords)\n",
    "\n",
    "keys = [' '.join(x) for x in keys]"
   ]
  },
  {
   "cell_type": "code",
   "execution_count": 58,
   "metadata": {},
   "outputs": [
    {
     "data": {
      "text/plain": [
       "[(2.7286749585323635,\n",
       "  12.501275059702161,\n",
       "  199,\n",
       "  'said-ya ass said-ah mouth said-ta body prick cunt legs said-dont said-fuck tongue dick balls penis thighs pants lips crotch hips said-want'),\n",
       " (2.7296534476113128,\n",
       "  1.3840219394168762,\n",
       "  155,\n",
       "  'room lay face bed head illness life was-see health hand death is seemed mind condition died fell die was-left strength side'),\n",
       " (2.7310885485109333,\n",
       "  2.341861825355644,\n",
       "  101,\n",
       "  'work book written life read writing letter write letters writes books works stories pen story poems says novel name journal diary'),\n",
       " (2.7335712133197547,\n",
       "  1.6529445562119081,\n",
       "  154,\n",
       "  'head hat shop hand man coat nose mouth took eyes hands cane face chair wore pocket spectacles legs eye stick wife'),\n",
       " (2.7607291334259023,\n",
       "  1.9746377158352222,\n",
       "  127,\n",
       "  'sent court people son power palace life brother enemies country hand father highness subjects master ordered made gave king friends death'),\n",
       " (2.7880141203939943,\n",
       "  1.5433753335669851,\n",
       "  152,\n",
       "  'loved was-loved love was-love arms wanted eyes was-see kissed came was-told face was-marry was-kissed knew come laughed hand looked was-tell told'),\n",
       " (2.8003633794291436,\n",
       "  2.2403634690908891,\n",
       "  27,\n",
       "  'church preached school sermon taught study people spoke did pupils pupil flock read sermons words voice congregation wife called came parish'),\n",
       " (2.8428096268334575,\n",
       "  1.2961349084492328,\n",
       "  89,\n",
       "  'was-take was-took go is was-put was-left mother was-leave come have came was-see father be was-have was-taken child was-told was-bring was-taking was-brought'),\n",
       " (2.8483073213084169,\n",
       "  2.6904979731494438,\n",
       "  102,\n",
       "  'army sent ordered troops officers command orders party camp tent man force soldiers people staff forces headquarters gave made led called'),\n",
       " (2.8625796799280256,\n",
       "  1.3366623990075317,\n",
       "  171,\n",
       "  'died dead was-killed body alive life was-kill left lived die killed grave name used was-murdered did man was-buried was-shot funeral was-knew'),\n",
       " (2.9373484808730264,\n",
       "  1.8938252207863853,\n",
       "  58,\n",
       "  'found saw took made came head way began set heard feet got knew thought put hands work reached brought lay carried'),\n",
       " (3.0642744469161611,\n",
       "  4.1820894969408249,\n",
       "  193,\n",
       "  'ai come says say was-got s did done goin go went head do know see give knowed get was-tell have comes'),\n",
       " (3.1338450378382769,\n",
       "  8.6686856983804645,\n",
       "  131,\n",
       "  'replied said-sir hand companion eyes continued added said-de was-cried said-replied said-though head said-lord said-give said-indeed said-dear said-lady heart mind said-moment thought'),\n",
       " (3.2265658296108972,\n",
       "  3.6810778041689791,\n",
       "  189,\n",
       "  'looks eyes head has thinks asks face hand knows takes sees is feels turns hands sits goes stands tells wants smiles'),\n",
       " (3.3121877309992689,\n",
       "  6.6420150856012681,\n",
       "  120,\n",
       "  'said-dat said-yo said-dey said-ah said-dis said-wid said-massa said-ob said-done said-ole said-dem said-gwine said-den said-ter said-git said-miss said-fo said-yuh said-bout said-nigger said-er'),\n",
       " (3.4345543996268373,\n",
       "  2.9808211506991444,\n",
       "  162,\n",
       "  'tail dog said-dog nose ears eyes legs master came neck back teeth feet mouth ran paws lay body wings stood did'),\n",
       " (3.8146435853521705,\n",
       "  7.7876248671047978,\n",
       "  76,\n",
       "  'came went saw took made heard answered sent was-unto gave was-told did hand smote fell called departed rode hath unto horse')]"
      ]
     },
     "execution_count": 58,
     "metadata": {},
     "output_type": "execute_result"
    }
   ],
   "source": [
    "tuples = []\n",
    "for i in range(veclen):\n",
    "    if mean_cv_withinbook[i] > 2.7:\n",
    "        tuples.append((mean_cv_withinbook[i], cv_acrossbook[i], i, keys[i]))\n",
    "\n",
    "tuples.sort()\n",
    "tuples"
   ]
  },
  {
   "cell_type": "code",
   "execution_count": 40,
   "metadata": {},
   "outputs": [
    {
     "data": {
      "text/plain": [
       "'made wanted knew have did seemed decided man life began way work gave told able needed called took tried voice done'"
      ]
     },
     "execution_count": 40,
     "metadata": {},
     "output_type": "execute_result"
    }
   ],
   "source": [
    "keys[1]"
   ]
  },
  {
   "cell_type": "code",
   "execution_count": null,
   "metadata": {},
   "outputs": [],
   "source": []
  }
 ],
 "metadata": {
  "kernelspec": {
   "display_name": "Python 3",
   "language": "python",
   "name": "python3"
  },
  "language_info": {
   "codemirror_mode": {
    "name": "ipython",
    "version": 3
   },
   "file_extension": ".py",
   "mimetype": "text/x-python",
   "name": "python",
   "nbconvert_exporter": "python",
   "pygments_lexer": "ipython3",
   "version": "3.5.2"
  }
 },
 "nbformat": 4,
 "nbformat_minor": 2
}
